{
  "nbformat": 4,
  "nbformat_minor": 0,
  "metadata": {
    "colab": {
      "provenance": [],
      "authorship_tag": "ABX9TyO3FylSO/kvx4CNGwV5alsU",
      "include_colab_link": true
    },
    "kernelspec": {
      "name": "python3",
      "display_name": "Python 3"
    },
    "language_info": {
      "name": "python"
    }
  },
  "cells": [
    {
      "cell_type": "markdown",
      "metadata": {
        "id": "view-in-github",
        "colab_type": "text"
      },
      "source": [
        "<a href=\"https://colab.research.google.com/github/maricmenezes/Cassandra/blob/main/Projeto_Cassandra.ipynb\" target=\"_parent\"><img src=\"https://colab.research.google.com/assets/colab-badge.svg\" alt=\"Open In Colab\"/></a>"
      ]
    },
    {
      "cell_type": "markdown",
      "source": [
        "# <font color = PaleGreen> **Bases de Dados SQL e NoSQL**\n",
        "# <font color = White> Bases de dados SQL são compostas por dados estruturados que podem ser armazenados em bancos de dados relacionais com uma organização bem definida. Este tipo de base de dados pode ser armazenada em schemas compostos por tabelas que se relacionam entre si através de chaves primárias e estrangeiras. Podem ser citados diversos exemplos de bases de dados relacionais como valores de ações com o passar do tempo, dados de clientes ou funcionários de um estabelecimento ou quantidade de passagens aéreas vendidas etc.\n",
        "\n",
        "# <font color = White>As bases de dados NoSQL são compostas por dados não estruturados ou semi-estruturados  e permitem armazenamento em bancos de dados não relacionais. Neste caso, a organização dos dados dentro do banco de dados não obedece a um schema estruturado, permitindo que o armazenamento seja feito em formatos diferentes de uma tabela. Entre as bases de dados NoSQL podemos citar alguns exemplos como: comentários em uma rede social, bases de dados que contenham imagens ou áudio e documentos. Existem 4 tipos principais de bancos de dados NoSQL: orientados a documentos, key-value, orientados a grafos e colunares.\n"
      ],
      "metadata": {
        "id": "SBh4Z5hfDgs-"
      }
    },
    {
      "cell_type": "markdown",
      "source": [
        "# <font color = PaleGreen> **Planejamento básico da infraestrutura**\n",
        "# <font color = White>\n",
        "Instalação do Docker Desktop\n",
        "\n",
        "Criação de uma rede, container e imagem do Cassandra no Docker\n",
        "\n",
        "Integração com o Jupyter Notebook para tratamento dos dados\n"
      ],
      "metadata": {
        "id": "t6Z_RtqdJ0RG"
      }
    }
  ]
}